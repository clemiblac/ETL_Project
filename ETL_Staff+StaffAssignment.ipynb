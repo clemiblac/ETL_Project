{
 "cells": [
  {
   "cell_type": "code",
   "execution_count": 24,
   "metadata": {},
   "outputs": [
    {
     "data": {
      "text/plain": [
       "'C:\\\\Users\\\\clemi\\\\Desktop\\\\Clementine-GWU-HW'"
      ]
     },
     "execution_count": 24,
     "metadata": {},
     "output_type": "execute_result"
    }
   ],
   "source": [
    "import os\n",
    "orig_working_directory=os.getcwd()\n",
    "orig_working_directory"
   ]
  },
  {
   "cell_type": "code",
   "execution_count": 25,
   "metadata": {},
   "outputs": [
    {
     "data": {
      "text/plain": [
       "'C:\\\\Users\\\\clemi\\\\Desktop'"
      ]
     },
     "execution_count": 25,
     "metadata": {},
     "output_type": "execute_result"
    }
   ],
   "source": [
    "os.chdir(os.path.join('..'))\n",
    "curr_working_directory=os.getcwd()\n",
    "curr_working_directory"
   ]
  },
  {
   "cell_type": "markdown",
   "metadata": {},
   "source": [
    "## Import Dependencies"
   ]
  },
  {
   "cell_type": "code",
   "execution_count": 26,
   "metadata": {},
   "outputs": [],
   "source": [
    "import json\n",
    "from sqlalchemy import create_engine\n",
    "import pandas as pd\n",
    "import pymysql\n",
    "pymysql.install_as_MySQLdb()"
   ]
  },
  {
   "cell_type": "markdown",
   "metadata": {},
   "source": [
    "## Import configuration variables"
   ]
  },
  {
   "cell_type": "code",
   "execution_count": 27,
   "metadata": {},
   "outputs": [],
   "source": [
    "from salesforce_config import sf_username, sf_password, sf_security_token\n",
    "from salesforce_config import remote_db_endpoint, remote_db_port\n",
    "from salesforce_config import remote_db_name, remote_db_user, remote_db_pwd"
   ]
  },
  {
   "cell_type": "markdown",
   "metadata": {},
   "source": [
    "## Set up simple_salesforce"
   ]
  },
  {
   "cell_type": "code",
   "execution_count": 28,
   "metadata": {},
   "outputs": [],
   "source": [
    "from simple_salesforce import Salesforce\n",
    "sf = Salesforce(username=sf_username, password=sf_password, security_token=sf_security_token)"
   ]
  },
  {
   "cell_type": "markdown",
   "metadata": {},
   "source": [
    "## Connect to your MySQL database"
   ]
  },
  {
   "cell_type": "code",
   "execution_count": 29,
   "metadata": {},
   "outputs": [],
   "source": [
    "engine = create_engine(f\"mysql://{remote_db_user}:{remote_db_pwd}@{remote_db_endpoint}:{remote_db_port}/{remote_db_name}\")\n",
    "conn = engine.connect()"
   ]
  },
  {
   "cell_type": "markdown",
   "metadata": {},
   "source": [
    "# Staff"
   ]
  },
  {
   "cell_type": "markdown",
   "metadata": {},
   "source": [
    "### Query Data"
   ]
  },
  {
   "cell_type": "code",
   "execution_count": 30,
   "metadata": {},
   "outputs": [
    {
     "data": {
      "text/html": [
       "<div>\n",
       "<style scoped>\n",
       "    .dataframe tbody tr th:only-of-type {\n",
       "        vertical-align: middle;\n",
       "    }\n",
       "\n",
       "    .dataframe tbody tr th {\n",
       "        vertical-align: top;\n",
       "    }\n",
       "\n",
       "    .dataframe thead th {\n",
       "        text-align: right;\n",
       "    }\n",
       "</style>\n",
       "<table border=\"1\" class=\"dataframe\">\n",
       "  <thead>\n",
       "    <tr style=\"text-align: right;\">\n",
       "      <th></th>\n",
       "      <th>ID_Staff</th>\n",
       "      <th>EmployeeID</th>\n",
       "      <th>LastName</th>\n",
       "      <th>FirstName</th>\n",
       "      <th>MiddleName</th>\n",
       "      <th>BirthDate</th>\n",
       "    </tr>\n",
       "  </thead>\n",
       "  <tbody>\n",
       "    <tr>\n",
       "      <td>0</td>\n",
       "      <td>1</td>\n",
       "      <td>000184220</td>\n",
       "      <td>Wimberly</td>\n",
       "      <td>Sam</td>\n",
       "      <td>Nico</td>\n",
       "      <td>1995-07-05</td>\n",
       "    </tr>\n",
       "    <tr>\n",
       "      <td>1</td>\n",
       "      <td>2</td>\n",
       "      <td>000130109</td>\n",
       "      <td>Sanford</td>\n",
       "      <td>Gemini</td>\n",
       "      <td>Blair</td>\n",
       "      <td>1992-04-22</td>\n",
       "    </tr>\n",
       "    <tr>\n",
       "      <td>2</td>\n",
       "      <td>3</td>\n",
       "      <td>000160655</td>\n",
       "      <td>Williams</td>\n",
       "      <td>Dartanion</td>\n",
       "      <td>De Angelo</td>\n",
       "      <td>1993-05-21</td>\n",
       "    </tr>\n",
       "    <tr>\n",
       "      <td>3</td>\n",
       "      <td>4</td>\n",
       "      <td>000159108</td>\n",
       "      <td>Popelka</td>\n",
       "      <td>Sarah</td>\n",
       "      <td>Nisan</td>\n",
       "      <td>1994-06-07</td>\n",
       "    </tr>\n",
       "  </tbody>\n",
       "</table>\n",
       "</div>"
      ],
      "text/plain": [
       "   ID_Staff EmployeeID  LastName  FirstName MiddleName   BirthDate\n",
       "0         1  000184220  Wimberly        Sam       Nico  1995-07-05\n",
       "1         2  000130109   Sanford     Gemini      Blair  1992-04-22\n",
       "2         3  000160655  Williams  Dartanion  De Angelo  1993-05-21\n",
       "3         4  000159108   Popelka      Sarah      Nisan  1994-06-07"
      ]
     },
     "execution_count": 30,
     "metadata": {},
     "output_type": "execute_result"
    }
   ],
   "source": [
    "staff_data = pd.read_sql(\"SELECT * FROM staff\", conn)\n",
    "staff_data.head(5)"
   ]
  },
  {
   "cell_type": "markdown",
   "metadata": {},
   "source": [
    "## Rename Columns"
   ]
  },
  {
   "cell_type": "code",
   "execution_count": 31,
   "metadata": {},
   "outputs": [
    {
     "data": {
      "text/html": [
       "<div>\n",
       "<style scoped>\n",
       "    .dataframe tbody tr th:only-of-type {\n",
       "        vertical-align: middle;\n",
       "    }\n",
       "\n",
       "    .dataframe tbody tr th {\n",
       "        vertical-align: top;\n",
       "    }\n",
       "\n",
       "    .dataframe thead th {\n",
       "        text-align: right;\n",
       "    }\n",
       "</style>\n",
       "<table border=\"1\" class=\"dataframe\">\n",
       "  <thead>\n",
       "    <tr style=\"text-align: right;\">\n",
       "      <th></th>\n",
       "      <th>ID_Staff__c</th>\n",
       "      <th>EmployeeID__c</th>\n",
       "      <th>Name</th>\n",
       "      <th>FirstName__c</th>\n",
       "      <th>MiddleName__c</th>\n",
       "      <th>BirthDate__c</th>\n",
       "    </tr>\n",
       "  </thead>\n",
       "  <tbody>\n",
       "    <tr>\n",
       "      <td>0</td>\n",
       "      <td>1</td>\n",
       "      <td>000184220</td>\n",
       "      <td>Wimberly</td>\n",
       "      <td>Sam</td>\n",
       "      <td>Nico</td>\n",
       "      <td>1995-07-05</td>\n",
       "    </tr>\n",
       "    <tr>\n",
       "      <td>1</td>\n",
       "      <td>2</td>\n",
       "      <td>000130109</td>\n",
       "      <td>Sanford</td>\n",
       "      <td>Gemini</td>\n",
       "      <td>Blair</td>\n",
       "      <td>1992-04-22</td>\n",
       "    </tr>\n",
       "    <tr>\n",
       "      <td>2</td>\n",
       "      <td>3</td>\n",
       "      <td>000160655</td>\n",
       "      <td>Williams</td>\n",
       "      <td>Dartanion</td>\n",
       "      <td>De Angelo</td>\n",
       "      <td>1993-05-21</td>\n",
       "    </tr>\n",
       "    <tr>\n",
       "      <td>3</td>\n",
       "      <td>4</td>\n",
       "      <td>000159108</td>\n",
       "      <td>Popelka</td>\n",
       "      <td>Sarah</td>\n",
       "      <td>Nisan</td>\n",
       "      <td>1994-06-07</td>\n",
       "    </tr>\n",
       "  </tbody>\n",
       "</table>\n",
       "</div>"
      ],
      "text/plain": [
       "   ID_Staff__c EmployeeID__c      Name FirstName__c MiddleName__c BirthDate__c\n",
       "0            1     000184220  Wimberly          Sam          Nico   1995-07-05\n",
       "1            2     000130109   Sanford       Gemini         Blair   1992-04-22\n",
       "2            3     000160655  Williams    Dartanion     De Angelo   1993-05-21\n",
       "3            4     000159108   Popelka        Sarah         Nisan   1994-06-07"
      ]
     },
     "execution_count": 31,
     "metadata": {},
     "output_type": "execute_result"
    }
   ],
   "source": [
    "#staff_data['FullName'] = staff_data['FirstName'].str.cat(staff_data['LastName'], sep=\" \")\n",
    "staff_data=staff_data.rename(columns={\"ID_Staff\":\"ID_Staff__c\",\"EmployeeID\":\"EmployeeID__c\",\"LastName\":\"Name\",\n",
    "                                       \"FirstName\":\"FirstName__c\",\"MiddleName\":\"MiddleName__c\",\n",
    "                                      \"BirthDate\":\"BirthDate__c\"})\n",
    "#convert date to string otherwise we will get JSON nonserilizable error\n",
    "staff_data[\"BirthDate__c\"]=staff_data[\"BirthDate__c\"].astype(str)\n",
    "staff_data.head()"
   ]
  },
  {
   "cell_type": "markdown",
   "metadata": {},
   "source": [
    "## Convert DataFrame to a list of Dictionaries"
   ]
  },
  {
   "cell_type": "code",
   "execution_count": 32,
   "metadata": {},
   "outputs": [
    {
     "data": {
      "text/plain": [
       "[{'ID_Staff__c': 1,\n",
       "  'EmployeeID__c': '000184220',\n",
       "  'Name': 'Wimberly',\n",
       "  'FirstName__c': 'Sam',\n",
       "  'MiddleName__c': 'Nico',\n",
       "  'BirthDate__c': '1995-07-05'},\n",
       " {'ID_Staff__c': 2,\n",
       "  'EmployeeID__c': '000130109',\n",
       "  'Name': 'Sanford',\n",
       "  'FirstName__c': 'Gemini',\n",
       "  'MiddleName__c': 'Blair',\n",
       "  'BirthDate__c': '1992-04-22'},\n",
       " {'ID_Staff__c': 3,\n",
       "  'EmployeeID__c': '000160655',\n",
       "  'Name': 'Williams',\n",
       "  'FirstName__c': 'Dartanion',\n",
       "  'MiddleName__c': 'De Angelo',\n",
       "  'BirthDate__c': '1993-05-21'},\n",
       " {'ID_Staff__c': 4,\n",
       "  'EmployeeID__c': '000159108',\n",
       "  'Name': 'Popelka',\n",
       "  'FirstName__c': 'Sarah',\n",
       "  'MiddleName__c': 'Nisan',\n",
       "  'BirthDate__c': '1994-06-07'}]"
      ]
     },
     "execution_count": 32,
     "metadata": {},
     "output_type": "execute_result"
    }
   ],
   "source": [
    "staff_load = staff_data.to_dict('records')\n",
    "staff_load"
   ]
  },
  {
   "cell_type": "markdown",
   "metadata": {},
   "source": [
    "## Inserting rows in bulk"
   ]
  },
  {
   "cell_type": "code",
   "execution_count": 33,
   "metadata": {},
   "outputs": [],
   "source": [
    "try:\n",
    "    sf.bulk.Staff__c.insert(staff_load)\n",
    "except Exception as e:\n",
    "    print(e)"
   ]
  },
  {
   "cell_type": "code",
   "execution_count": null,
   "metadata": {},
   "outputs": [],
   "source": []
  },
  {
   "cell_type": "markdown",
   "metadata": {},
   "source": [
    "# Staff Assignment"
   ]
  },
  {
   "cell_type": "markdown",
   "metadata": {},
   "source": [
    "### Query Data "
   ]
  },
  {
   "cell_type": "code",
   "execution_count": 34,
   "metadata": {},
   "outputs": [
    {
     "data": {
      "text/html": [
       "<div>\n",
       "<style scoped>\n",
       "    .dataframe tbody tr th:only-of-type {\n",
       "        vertical-align: middle;\n",
       "    }\n",
       "\n",
       "    .dataframe tbody tr th {\n",
       "        vertical-align: top;\n",
       "    }\n",
       "\n",
       "    .dataframe thead th {\n",
       "        text-align: right;\n",
       "    }\n",
       "</style>\n",
       "<table border=\"1\" class=\"dataframe\">\n",
       "  <thead>\n",
       "    <tr style=\"text-align: right;\">\n",
       "      <th></th>\n",
       "      <th>ID_StaffAssignment</th>\n",
       "      <th>ID_Staff</th>\n",
       "      <th>ID_Class</th>\n",
       "      <th>Role</th>\n",
       "      <th>StartDate</th>\n",
       "      <th>EndDate</th>\n",
       "    </tr>\n",
       "  </thead>\n",
       "  <tbody>\n",
       "    <tr>\n",
       "      <td>0</td>\n",
       "      <td>1</td>\n",
       "      <td>1</td>\n",
       "      <td>1</td>\n",
       "      <td>Teacher Assistant</td>\n",
       "      <td>2020-03-16</td>\n",
       "      <td>None</td>\n",
       "    </tr>\n",
       "    <tr>\n",
       "      <td>1</td>\n",
       "      <td>2</td>\n",
       "      <td>4</td>\n",
       "      <td>1</td>\n",
       "      <td>Teacher Assistant</td>\n",
       "      <td>2020-03-16</td>\n",
       "      <td>None</td>\n",
       "    </tr>\n",
       "    <tr>\n",
       "      <td>2</td>\n",
       "      <td>3</td>\n",
       "      <td>3</td>\n",
       "      <td>1</td>\n",
       "      <td>Instructor</td>\n",
       "      <td>2020-03-16</td>\n",
       "      <td>None</td>\n",
       "    </tr>\n",
       "  </tbody>\n",
       "</table>\n",
       "</div>"
      ],
      "text/plain": [
       "   ID_StaffAssignment  ID_Staff  ID_Class               Role   StartDate  \\\n",
       "0                   1         1         1  Teacher Assistant  2020-03-16   \n",
       "1                   2         4         1  Teacher Assistant  2020-03-16   \n",
       "2                   3         3         1         Instructor  2020-03-16   \n",
       "\n",
       "  EndDate  \n",
       "0    None  \n",
       "1    None  \n",
       "2    None  "
      ]
     },
     "execution_count": 34,
     "metadata": {},
     "output_type": "execute_result"
    }
   ],
   "source": [
    "staffassignment_data = pd.read_sql(\"SELECT * FROM staffassignment\", conn)\n",
    "staffassignment_data"
   ]
  },
  {
   "cell_type": "markdown",
   "metadata": {},
   "source": [
    "### Rename columns"
   ]
  },
  {
   "cell_type": "code",
   "execution_count": 35,
   "metadata": {},
   "outputs": [
    {
     "data": {
      "text/html": [
       "<div>\n",
       "<style scoped>\n",
       "    .dataframe tbody tr th:only-of-type {\n",
       "        vertical-align: middle;\n",
       "    }\n",
       "\n",
       "    .dataframe tbody tr th {\n",
       "        vertical-align: top;\n",
       "    }\n",
       "\n",
       "    .dataframe thead th {\n",
       "        text-align: right;\n",
       "    }\n",
       "</style>\n",
       "<table border=\"1\" class=\"dataframe\">\n",
       "  <thead>\n",
       "    <tr style=\"text-align: right;\">\n",
       "      <th></th>\n",
       "      <th>ID_StaffAssignment__c</th>\n",
       "      <th>ID_Staff__c</th>\n",
       "      <th>ID_Class__c</th>\n",
       "      <th>Name</th>\n",
       "      <th>StartDate__c</th>\n",
       "      <th>EndDate__c</th>\n",
       "    </tr>\n",
       "  </thead>\n",
       "  <tbody>\n",
       "    <tr>\n",
       "      <td>0</td>\n",
       "      <td>1</td>\n",
       "      <td>1</td>\n",
       "      <td>1</td>\n",
       "      <td>Teacher Assistant</td>\n",
       "      <td>2020-03-16</td>\n",
       "      <td>None</td>\n",
       "    </tr>\n",
       "    <tr>\n",
       "      <td>1</td>\n",
       "      <td>2</td>\n",
       "      <td>4</td>\n",
       "      <td>1</td>\n",
       "      <td>Teacher Assistant</td>\n",
       "      <td>2020-03-16</td>\n",
       "      <td>None</td>\n",
       "    </tr>\n",
       "    <tr>\n",
       "      <td>2</td>\n",
       "      <td>3</td>\n",
       "      <td>3</td>\n",
       "      <td>1</td>\n",
       "      <td>Instructor</td>\n",
       "      <td>2020-03-16</td>\n",
       "      <td>None</td>\n",
       "    </tr>\n",
       "  </tbody>\n",
       "</table>\n",
       "</div>"
      ],
      "text/plain": [
       "   ID_StaffAssignment__c  ID_Staff__c  ID_Class__c               Name  \\\n",
       "0                      1            1            1  Teacher Assistant   \n",
       "1                      2            4            1  Teacher Assistant   \n",
       "2                      3            3            1         Instructor   \n",
       "\n",
       "  StartDate__c EndDate__c  \n",
       "0   2020-03-16       None  \n",
       "1   2020-03-16       None  \n",
       "2   2020-03-16       None  "
      ]
     },
     "execution_count": 35,
     "metadata": {},
     "output_type": "execute_result"
    }
   ],
   "source": [
    "staffassignment_data=staffassignment_data.rename(columns={\"ID_StaffAssignment\":\"ID_StaffAssignment__c\",\n",
    "                                                          \"ID_Staff\":\"ID_Staff__c\", \"ID_Class\":\"ID_Class__c\",\"Role\":\"Name\",\n",
    "                                                           \"StartDate\":\"StartDate__c\",\"EndDate\":\"EndDate__c\"})\n",
    "#convert date to string otherwise we will get JSON nonserilizable error\n",
    "staffassignment_data[\"StartDate__c\"]=staffassignment_data[\"StartDate__c\"].astype(str)\n",
    "\n",
    "staffassignment_data.head()"
   ]
  },
  {
   "cell_type": "markdown",
   "metadata": {},
   "source": [
    "### Extract Record ID "
   ]
  },
  {
   "cell_type": "code",
   "execution_count": 36,
   "metadata": {},
   "outputs": [],
   "source": [
    "query=sf.query(\"SELECT ID_Staff__c from Staff__c\")"
   ]
  },
  {
   "cell_type": "code",
   "execution_count": 37,
   "metadata": {},
   "outputs": [
    {
     "data": {
      "text/plain": [
       "OrderedDict([('totalSize', 4),\n",
       "             ('done', True),\n",
       "             ('records',\n",
       "              [OrderedDict([('attributes',\n",
       "                             OrderedDict([('type', 'Staff__c'),\n",
       "                                          ('url',\n",
       "                                           '/services/data/v42.0/sobjects/Staff__c/a0C3h000000yWNyEAM')])),\n",
       "                            ('ID_Staff__c', 1.0)]),\n",
       "               OrderedDict([('attributes',\n",
       "                             OrderedDict([('type', 'Staff__c'),\n",
       "                                          ('url',\n",
       "                                           '/services/data/v42.0/sobjects/Staff__c/a0C3h000000yWNzEAM')])),\n",
       "                            ('ID_Staff__c', 2.0)]),\n",
       "               OrderedDict([('attributes',\n",
       "                             OrderedDict([('type', 'Staff__c'),\n",
       "                                          ('url',\n",
       "                                           '/services/data/v42.0/sobjects/Staff__c/a0C3h000000yWO0EAM')])),\n",
       "                            ('ID_Staff__c', 3.0)]),\n",
       "               OrderedDict([('attributes',\n",
       "                             OrderedDict([('type', 'Staff__c'),\n",
       "                                          ('url',\n",
       "                                           '/services/data/v42.0/sobjects/Staff__c/a0C3h000000yWO1EAM')])),\n",
       "                            ('ID_Staff__c', 4.0)])])])"
      ]
     },
     "execution_count": 37,
     "metadata": {},
     "output_type": "execute_result"
    }
   ],
   "source": [
    "query"
   ]
  },
  {
   "cell_type": "code",
   "execution_count": 38,
   "metadata": {},
   "outputs": [
    {
     "name": "stdout",
     "output_type": "stream",
     "text": [
      "a0C3h000000yWNyEAM 1\n",
      "a0C3h000000yWNzEAM 2\n",
      "a0C3h000000yWO0EAM 3\n",
      "a0C3h000000yWO1EAM 4\n",
      "{1: 'a0C3h000000yWNyEAM', 2: 'a0C3h000000yWNzEAM', 3: 'a0C3h000000yWO0EAM', 4: 'a0C3h000000yWO1EAM'}\n"
     ]
    }
   ],
   "source": [
    "staff_dict={}\n",
    "x=0\n",
    "while x< len(query['records']):\n",
    "    url=query['records'][x]['attributes']['url'].split('/')[6]\n",
    "    staff_id=int(query['records'][x]['ID_Staff__c'])\n",
    "    print(url,staff_id)\n",
    "    staff_dict[staff_id]=url\n",
    "    x=x+1\n",
    "print(staff_dict)"
   ]
  },
  {
   "cell_type": "code",
   "execution_count": 39,
   "metadata": {},
   "outputs": [
    {
     "name": "stderr",
     "output_type": "stream",
     "text": [
      "C:\\Users\\clemi\\Anaconda3\\lib\\site-packages\\ipykernel_launcher.py:2: SettingWithCopyWarning: \n",
      "A value is trying to be set on a copy of a slice from a DataFrame\n",
      "\n",
      "See the caveats in the documentation: http://pandas.pydata.org/pandas-docs/stable/user_guide/indexing.html#returning-a-view-versus-a-copy\n",
      "  \n"
     ]
    },
    {
     "data": {
      "text/html": [
       "<div>\n",
       "<style scoped>\n",
       "    .dataframe tbody tr th:only-of-type {\n",
       "        vertical-align: middle;\n",
       "    }\n",
       "\n",
       "    .dataframe tbody tr th {\n",
       "        vertical-align: top;\n",
       "    }\n",
       "\n",
       "    .dataframe thead th {\n",
       "        text-align: right;\n",
       "    }\n",
       "</style>\n",
       "<table border=\"1\" class=\"dataframe\">\n",
       "  <thead>\n",
       "    <tr style=\"text-align: right;\">\n",
       "      <th></th>\n",
       "      <th>ID_StaffAssignment__c</th>\n",
       "      <th>ID_Staff__c</th>\n",
       "      <th>ID_Class__c</th>\n",
       "      <th>Name</th>\n",
       "      <th>StartDate__c</th>\n",
       "      <th>EndDate__c</th>\n",
       "    </tr>\n",
       "  </thead>\n",
       "  <tbody>\n",
       "    <tr>\n",
       "      <td>0</td>\n",
       "      <td>1</td>\n",
       "      <td>a0C3h000000yWNyEAM</td>\n",
       "      <td>1</td>\n",
       "      <td>Teacher Assistant</td>\n",
       "      <td>2020-03-16</td>\n",
       "      <td>None</td>\n",
       "    </tr>\n",
       "    <tr>\n",
       "      <td>1</td>\n",
       "      <td>2</td>\n",
       "      <td>a0C3h000000yWO1EAM</td>\n",
       "      <td>1</td>\n",
       "      <td>Teacher Assistant</td>\n",
       "      <td>2020-03-16</td>\n",
       "      <td>None</td>\n",
       "    </tr>\n",
       "    <tr>\n",
       "      <td>2</td>\n",
       "      <td>3</td>\n",
       "      <td>a0C3h000000yWO0EAM</td>\n",
       "      <td>1</td>\n",
       "      <td>Instructor</td>\n",
       "      <td>2020-03-16</td>\n",
       "      <td>None</td>\n",
       "    </tr>\n",
       "  </tbody>\n",
       "</table>\n",
       "</div>"
      ],
      "text/plain": [
       "   ID_StaffAssignment__c         ID_Staff__c  ID_Class__c               Name  \\\n",
       "0                      1  a0C3h000000yWNyEAM            1  Teacher Assistant   \n",
       "1                      2  a0C3h000000yWO1EAM            1  Teacher Assistant   \n",
       "2                      3  a0C3h000000yWO0EAM            1         Instructor   \n",
       "\n",
       "  StartDate__c EndDate__c  \n",
       "0   2020-03-16       None  \n",
       "1   2020-03-16       None  \n",
       "2   2020-03-16       None  "
      ]
     },
     "execution_count": 39,
     "metadata": {},
     "output_type": "execute_result"
    }
   ],
   "source": [
    "for index,row in staffassignment_data.iterrows():\n",
    "    staffassignment_data['ID_Staff__c'][index]=staff_dict[row['ID_Staff__c']]\n",
    "staffassignment_data"
   ]
  },
  {
   "cell_type": "markdown",
   "metadata": {},
   "source": [
    "### Convert Dataframe to list of dictionaries"
   ]
  },
  {
   "cell_type": "code",
   "execution_count": 40,
   "metadata": {},
   "outputs": [
    {
     "data": {
      "text/plain": [
       "[{'ID_StaffAssignment__c': 1,\n",
       "  'ID_Staff__c': 'a0C3h000000yWNyEAM',\n",
       "  'ID_Class__c': 1,\n",
       "  'Name': 'Teacher Assistant',\n",
       "  'StartDate__c': '2020-03-16',\n",
       "  'EndDate__c': None},\n",
       " {'ID_StaffAssignment__c': 2,\n",
       "  'ID_Staff__c': 'a0C3h000000yWO1EAM',\n",
       "  'ID_Class__c': 1,\n",
       "  'Name': 'Teacher Assistant',\n",
       "  'StartDate__c': '2020-03-16',\n",
       "  'EndDate__c': None},\n",
       " {'ID_StaffAssignment__c': 3,\n",
       "  'ID_Staff__c': 'a0C3h000000yWO0EAM',\n",
       "  'ID_Class__c': 1,\n",
       "  'Name': 'Instructor',\n",
       "  'StartDate__c': '2020-03-16',\n",
       "  'EndDate__c': None}]"
      ]
     },
     "execution_count": 40,
     "metadata": {},
     "output_type": "execute_result"
    }
   ],
   "source": [
    "staffassignment_load = staffassignment_data.to_dict('records')\n",
    "staffassignment_load "
   ]
  },
  {
   "cell_type": "code",
   "execution_count": 41,
   "metadata": {},
   "outputs": [],
   "source": [
    "try:\n",
    "    sf.bulk.StaffAssignment__c.insert(staffassignment_load)\n",
    "except Exception as e:\n",
    "    print(e)"
   ]
  },
  {
   "cell_type": "code",
   "execution_count": null,
   "metadata": {},
   "outputs": [],
   "source": []
  }
 ],
 "metadata": {
  "kernelspec": {
   "display_name": "Python 3",
   "language": "python",
   "name": "python3"
  },
  "language_info": {
   "codemirror_mode": {
    "name": "ipython",
    "version": 3
   },
   "file_extension": ".py",
   "mimetype": "text/x-python",
   "name": "python",
   "nbconvert_exporter": "python",
   "pygments_lexer": "ipython3",
   "version": "3.7.4"
  }
 },
 "nbformat": 4,
 "nbformat_minor": 2
}
