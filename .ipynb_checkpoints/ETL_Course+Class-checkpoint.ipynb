{
 "cells": [
  {
   "cell_type": "code",
   "execution_count": 1,
   "metadata": {},
   "outputs": [
    {
     "data": {
      "text/plain": [
       "'C:\\\\Users\\\\clemi\\\\Desktop\\\\Clementine-GWU-HW\\\\ETL_Project'"
      ]
     },
     "execution_count": 1,
     "metadata": {},
     "output_type": "execute_result"
    }
   ],
   "source": [
    "import os\n",
    "orig_working_directory=os.getcwd()\n",
    "orig_working_directory"
   ]
  },
  {
   "cell_type": "code",
   "execution_count": 2,
   "metadata": {},
   "outputs": [
    {
     "data": {
      "text/plain": [
       "'C:\\\\Users\\\\clemi\\\\Desktop\\\\Clementine-GWU-HW'"
      ]
     },
     "execution_count": 2,
     "metadata": {},
     "output_type": "execute_result"
    }
   ],
   "source": [
    "os.chdir(os.path.join('..'))\n",
    "curr_working_directory=os.getcwd()\n",
    "curr_working_directory"
   ]
  },
  {
   "cell_type": "markdown",
   "metadata": {},
   "source": [
    "## Import Dependencies"
   ]
  },
  {
   "cell_type": "code",
   "execution_count": 3,
   "metadata": {},
   "outputs": [],
   "source": [
    "import json\n",
    "from sqlalchemy import create_engine\n",
    "import pandas as pd\n",
    "import pymysql\n",
    "pymysql.install_as_MySQLdb()"
   ]
  },
  {
   "cell_type": "markdown",
   "metadata": {},
   "source": [
    "## Import configuration variables"
   ]
  },
  {
   "cell_type": "code",
   "execution_count": 4,
   "metadata": {},
   "outputs": [],
   "source": [
    "from salesforce_config import sf_username, sf_password, sf_security_token\n",
    "from salesforce_config import remote_db_endpoint, remote_db_port\n",
    "from salesforce_config import remote_db_name, remote_db_user, remote_db_pwd"
   ]
  },
  {
   "cell_type": "markdown",
   "metadata": {},
   "source": [
    "## Set up simple_salesforce"
   ]
  },
  {
   "cell_type": "code",
   "execution_count": 5,
   "metadata": {},
   "outputs": [],
   "source": [
    "from simple_salesforce import Salesforce\n",
    "sf = Salesforce(username=sf_username, password=sf_password, security_token=sf_security_token)"
   ]
  },
  {
   "cell_type": "markdown",
   "metadata": {},
   "source": [
    "## Connect to your MySQL database"
   ]
  },
  {
   "cell_type": "code",
   "execution_count": 6,
   "metadata": {},
   "outputs": [],
   "source": [
    "engine = create_engine(f\"mysql://{remote_db_user}:{remote_db_pwd}@{remote_db_endpoint}:{remote_db_port}/{remote_db_name}\")\n",
    "conn = engine.connect()"
   ]
  },
  {
   "cell_type": "markdown",
   "metadata": {},
   "source": [
    "## Query Data"
   ]
  },
  {
   "cell_type": "code",
   "execution_count": 7,
   "metadata": {},
   "outputs": [
    {
     "data": {
      "text/html": [
       "<div>\n",
       "<style scoped>\n",
       "    .dataframe tbody tr th:only-of-type {\n",
       "        vertical-align: middle;\n",
       "    }\n",
       "\n",
       "    .dataframe tbody tr th {\n",
       "        vertical-align: top;\n",
       "    }\n",
       "\n",
       "    .dataframe thead th {\n",
       "        text-align: right;\n",
       "    }\n",
       "</style>\n",
       "<table border=\"1\" class=\"dataframe\">\n",
       "  <thead>\n",
       "    <tr style=\"text-align: right;\">\n",
       "      <th></th>\n",
       "      <th>ID_Course</th>\n",
       "      <th>CourseCode</th>\n",
       "      <th>CourseName</th>\n",
       "      <th>CreditHours</th>\n",
       "      <th>BootCampCourse</th>\n",
       "    </tr>\n",
       "  </thead>\n",
       "  <tbody>\n",
       "    <tr>\n",
       "      <td>0</td>\n",
       "      <td>1</td>\n",
       "      <td>BC-DATAVIZ</td>\n",
       "      <td>Data Visualization and Analytics</td>\n",
       "      <td>12</td>\n",
       "      <td>1</td>\n",
       "    </tr>\n",
       "    <tr>\n",
       "      <td>1</td>\n",
       "      <td>2</td>\n",
       "      <td>BC-WEBDEV</td>\n",
       "      <td>Full Stack Web Development</td>\n",
       "      <td>12</td>\n",
       "      <td>1</td>\n",
       "    </tr>\n",
       "    <tr>\n",
       "      <td>2</td>\n",
       "      <td>3</td>\n",
       "      <td>BC-UIUX</td>\n",
       "      <td>User Interface/User Experience</td>\n",
       "      <td>12</td>\n",
       "      <td>1</td>\n",
       "    </tr>\n",
       "    <tr>\n",
       "      <td>3</td>\n",
       "      <td>4</td>\n",
       "      <td>CIS-349</td>\n",
       "      <td>Introduction to Databases</td>\n",
       "      <td>5</td>\n",
       "      <td>0</td>\n",
       "    </tr>\n",
       "    <tr>\n",
       "      <td>4</td>\n",
       "      <td>5</td>\n",
       "      <td>CIS-405</td>\n",
       "      <td>Database Programming</td>\n",
       "      <td>5</td>\n",
       "      <td>0</td>\n",
       "    </tr>\n",
       "    <tr>\n",
       "      <td>5</td>\n",
       "      <td>6</td>\n",
       "      <td>CIS-438</td>\n",
       "      <td>Database Administration</td>\n",
       "      <td>5</td>\n",
       "      <td>0</td>\n",
       "    </tr>\n",
       "    <tr>\n",
       "      <td>6</td>\n",
       "      <td>7</td>\n",
       "      <td>CIS-430</td>\n",
       "      <td>Business Systems Programming I</td>\n",
       "      <td>5</td>\n",
       "      <td>0</td>\n",
       "    </tr>\n",
       "    <tr>\n",
       "      <td>7</td>\n",
       "      <td>8</td>\n",
       "      <td>CIS-435</td>\n",
       "      <td>Business Systems Programming II</td>\n",
       "      <td>5</td>\n",
       "      <td>0</td>\n",
       "    </tr>\n",
       "  </tbody>\n",
       "</table>\n",
       "</div>"
      ],
      "text/plain": [
       "   ID_Course  CourseCode                        CourseName  CreditHours  \\\n",
       "0          1  BC-DATAVIZ  Data Visualization and Analytics           12   \n",
       "1          2   BC-WEBDEV        Full Stack Web Development           12   \n",
       "2          3     BC-UIUX    User Interface/User Experience           12   \n",
       "3          4     CIS-349         Introduction to Databases            5   \n",
       "4          5     CIS-405              Database Programming            5   \n",
       "5          6     CIS-438           Database Administration            5   \n",
       "6          7     CIS-430    Business Systems Programming I            5   \n",
       "7          8     CIS-435   Business Systems Programming II            5   \n",
       "\n",
       "   BootCampCourse  \n",
       "0               1  \n",
       "1               1  \n",
       "2               1  \n",
       "3               0  \n",
       "4               0  \n",
       "5               0  \n",
       "6               0  \n",
       "7               0  "
      ]
     },
     "execution_count": 7,
     "metadata": {},
     "output_type": "execute_result"
    }
   ],
   "source": [
    "course_data = pd.read_sql(\"SELECT * FROM course\", conn)\n",
    "course_data.head(30)"
   ]
  },
  {
   "cell_type": "markdown",
   "metadata": {},
   "source": [
    "## Rename Columns"
   ]
  },
  {
   "cell_type": "code",
   "execution_count": 8,
   "metadata": {},
   "outputs": [
    {
     "data": {
      "text/html": [
       "<div>\n",
       "<style scoped>\n",
       "    .dataframe tbody tr th:only-of-type {\n",
       "        vertical-align: middle;\n",
       "    }\n",
       "\n",
       "    .dataframe tbody tr th {\n",
       "        vertical-align: top;\n",
       "    }\n",
       "\n",
       "    .dataframe thead th {\n",
       "        text-align: right;\n",
       "    }\n",
       "</style>\n",
       "<table border=\"1\" class=\"dataframe\">\n",
       "  <thead>\n",
       "    <tr style=\"text-align: right;\">\n",
       "      <th></th>\n",
       "      <th>ID_Course__c</th>\n",
       "      <th>CourseCode__c</th>\n",
       "      <th>Name</th>\n",
       "      <th>CreditHours__c</th>\n",
       "      <th>BootCampCourse__c</th>\n",
       "    </tr>\n",
       "  </thead>\n",
       "  <tbody>\n",
       "    <tr>\n",
       "      <td>0</td>\n",
       "      <td>1</td>\n",
       "      <td>BC-DATAVIZ</td>\n",
       "      <td>Data Visualization and Analytics</td>\n",
       "      <td>12</td>\n",
       "      <td>1</td>\n",
       "    </tr>\n",
       "    <tr>\n",
       "      <td>1</td>\n",
       "      <td>2</td>\n",
       "      <td>BC-WEBDEV</td>\n",
       "      <td>Full Stack Web Development</td>\n",
       "      <td>12</td>\n",
       "      <td>1</td>\n",
       "    </tr>\n",
       "    <tr>\n",
       "      <td>2</td>\n",
       "      <td>3</td>\n",
       "      <td>BC-UIUX</td>\n",
       "      <td>User Interface/User Experience</td>\n",
       "      <td>12</td>\n",
       "      <td>1</td>\n",
       "    </tr>\n",
       "    <tr>\n",
       "      <td>3</td>\n",
       "      <td>4</td>\n",
       "      <td>CIS-349</td>\n",
       "      <td>Introduction to Databases</td>\n",
       "      <td>5</td>\n",
       "      <td>0</td>\n",
       "    </tr>\n",
       "    <tr>\n",
       "      <td>4</td>\n",
       "      <td>5</td>\n",
       "      <td>CIS-405</td>\n",
       "      <td>Database Programming</td>\n",
       "      <td>5</td>\n",
       "      <td>0</td>\n",
       "    </tr>\n",
       "  </tbody>\n",
       "</table>\n",
       "</div>"
      ],
      "text/plain": [
       "   ID_Course__c CourseCode__c                              Name  \\\n",
       "0             1    BC-DATAVIZ  Data Visualization and Analytics   \n",
       "1             2     BC-WEBDEV        Full Stack Web Development   \n",
       "2             3       BC-UIUX    User Interface/User Experience   \n",
       "3             4       CIS-349         Introduction to Databases   \n",
       "4             5       CIS-405              Database Programming   \n",
       "\n",
       "   CreditHours__c  BootCampCourse__c  \n",
       "0              12                  1  \n",
       "1              12                  1  \n",
       "2              12                  1  \n",
       "3               5                  0  \n",
       "4               5                  0  "
      ]
     },
     "execution_count": 8,
     "metadata": {},
     "output_type": "execute_result"
    }
   ],
   "source": [
    "course_data=course_data.rename(columns={\"ID_Course\":\"ID_Course__c\",\"CourseCode\":\"CourseCode__c\",\"CourseName\":\"Name\",\n",
    "                                       \"CreditHours\":\"CreditHours__c\",\"BootCampCourse\":\"BootCampCourse__c\"})\n",
    "course_data.head()"
   ]
  },
  {
   "cell_type": "markdown",
   "metadata": {},
   "source": [
    "## Convert DataFrame to a list of Dictionaries"
   ]
  },
  {
   "cell_type": "code",
   "execution_count": 9,
   "metadata": {},
   "outputs": [
    {
     "data": {
      "text/plain": [
       "[{'ID_Course__c': 1,\n",
       "  'CourseCode__c': 'BC-DATAVIZ',\n",
       "  'Name': 'Data Visualization and Analytics',\n",
       "  'CreditHours__c': 12,\n",
       "  'BootCampCourse__c': 1},\n",
       " {'ID_Course__c': 2,\n",
       "  'CourseCode__c': 'BC-WEBDEV',\n",
       "  'Name': 'Full Stack Web Development',\n",
       "  'CreditHours__c': 12,\n",
       "  'BootCampCourse__c': 1},\n",
       " {'ID_Course__c': 3,\n",
       "  'CourseCode__c': 'BC-UIUX',\n",
       "  'Name': 'User Interface/User Experience',\n",
       "  'CreditHours__c': 12,\n",
       "  'BootCampCourse__c': 1},\n",
       " {'ID_Course__c': 4,\n",
       "  'CourseCode__c': 'CIS-349',\n",
       "  'Name': 'Introduction to Databases',\n",
       "  'CreditHours__c': 5,\n",
       "  'BootCampCourse__c': 0},\n",
       " {'ID_Course__c': 5,\n",
       "  'CourseCode__c': 'CIS-405',\n",
       "  'Name': 'Database Programming',\n",
       "  'CreditHours__c': 5,\n",
       "  'BootCampCourse__c': 0},\n",
       " {'ID_Course__c': 6,\n",
       "  'CourseCode__c': 'CIS-438',\n",
       "  'Name': 'Database Administration',\n",
       "  'CreditHours__c': 5,\n",
       "  'BootCampCourse__c': 0},\n",
       " {'ID_Course__c': 7,\n",
       "  'CourseCode__c': 'CIS-430',\n",
       "  'Name': 'Business Systems Programming I',\n",
       "  'CreditHours__c': 5,\n",
       "  'BootCampCourse__c': 0},\n",
       " {'ID_Course__c': 8,\n",
       "  'CourseCode__c': 'CIS-435',\n",
       "  'Name': 'Business Systems Programming II',\n",
       "  'CreditHours__c': 5,\n",
       "  'BootCampCourse__c': 0}]"
      ]
     },
     "execution_count": 9,
     "metadata": {},
     "output_type": "execute_result"
    }
   ],
   "source": [
    "course_load = course_data.to_dict('records')\n",
    "course_load"
   ]
  },
  {
   "cell_type": "markdown",
   "metadata": {},
   "source": [
    "## Inserting rows in bulk"
   ]
  },
  {
   "cell_type": "code",
   "execution_count": 10,
   "metadata": {},
   "outputs": [],
   "source": [
    "try:\n",
    "    sf.bulk.Course__c.insert(course_load)\n",
    "except Exception as e:\n",
    "    print(e)"
   ]
  },
  {
   "cell_type": "code",
   "execution_count": null,
   "metadata": {},
   "outputs": [],
   "source": []
  },
  {
   "cell_type": "markdown",
   "metadata": {},
   "source": [
    "# Class Data"
   ]
  },
  {
   "cell_type": "markdown",
   "metadata": {},
   "source": [
    "### Query Data"
   ]
  },
  {
   "cell_type": "code",
   "execution_count": 11,
   "metadata": {},
   "outputs": [
    {
     "data": {
      "text/html": [
       "<div>\n",
       "<style scoped>\n",
       "    .dataframe tbody tr th:only-of-type {\n",
       "        vertical-align: middle;\n",
       "    }\n",
       "\n",
       "    .dataframe tbody tr th {\n",
       "        vertical-align: top;\n",
       "    }\n",
       "\n",
       "    .dataframe thead th {\n",
       "        text-align: right;\n",
       "    }\n",
       "</style>\n",
       "<table border=\"1\" class=\"dataframe\">\n",
       "  <thead>\n",
       "    <tr style=\"text-align: right;\">\n",
       "      <th></th>\n",
       "      <th>ID_Class</th>\n",
       "      <th>ID_Course</th>\n",
       "      <th>Section</th>\n",
       "      <th>StartDate</th>\n",
       "      <th>EndDate</th>\n",
       "    </tr>\n",
       "  </thead>\n",
       "  <tbody>\n",
       "    <tr>\n",
       "      <td>0</td>\n",
       "      <td>1</td>\n",
       "      <td>1</td>\n",
       "      <td>GWU-ARL-DATA-PT-09-0</td>\n",
       "      <td>2020-03-16</td>\n",
       "      <td>2020-03-14</td>\n",
       "    </tr>\n",
       "    <tr>\n",
       "      <td>1</td>\n",
       "      <td>2</td>\n",
       "      <td>1</td>\n",
       "      <td>GWDC201805DATA3</td>\n",
       "      <td>2018-05-15</td>\n",
       "      <td>2018-11-08</td>\n",
       "    </tr>\n",
       "    <tr>\n",
       "      <td>2</td>\n",
       "      <td>3</td>\n",
       "      <td>2</td>\n",
       "      <td>GWARL201905WEB3</td>\n",
       "      <td>2019-05-14</td>\n",
       "      <td>2019-11-07</td>\n",
       "    </tr>\n",
       "    <tr>\n",
       "      <td>3</td>\n",
       "      <td>4</td>\n",
       "      <td>3</td>\n",
       "      <td>GWARL201905UIUX3</td>\n",
       "      <td>2019-05-14</td>\n",
       "      <td>2019-11-07</td>\n",
       "    </tr>\n",
       "  </tbody>\n",
       "</table>\n",
       "</div>"
      ],
      "text/plain": [
       "   ID_Class  ID_Course               Section   StartDate     EndDate\n",
       "0         1          1  GWU-ARL-DATA-PT-09-0  2020-03-16  2020-03-14\n",
       "1         2          1       GWDC201805DATA3  2018-05-15  2018-11-08\n",
       "2         3          2       GWARL201905WEB3  2019-05-14  2019-11-07\n",
       "3         4          3      GWARL201905UIUX3  2019-05-14  2019-11-07"
      ]
     },
     "execution_count": 11,
     "metadata": {},
     "output_type": "execute_result"
    }
   ],
   "source": [
    "class_data = pd.read_sql(\"SELECT * FROM class\", conn)\n",
    "class_data.head(5)"
   ]
  },
  {
   "cell_type": "markdown",
   "metadata": {},
   "source": [
    "### Rename Columns "
   ]
  },
  {
   "cell_type": "code",
   "execution_count": 12,
   "metadata": {},
   "outputs": [
    {
     "data": {
      "text/html": [
       "<div>\n",
       "<style scoped>\n",
       "    .dataframe tbody tr th:only-of-type {\n",
       "        vertical-align: middle;\n",
       "    }\n",
       "\n",
       "    .dataframe tbody tr th {\n",
       "        vertical-align: top;\n",
       "    }\n",
       "\n",
       "    .dataframe thead th {\n",
       "        text-align: right;\n",
       "    }\n",
       "</style>\n",
       "<table border=\"1\" class=\"dataframe\">\n",
       "  <thead>\n",
       "    <tr style=\"text-align: right;\">\n",
       "      <th></th>\n",
       "      <th>ID_Class__c</th>\n",
       "      <th>ID_Course__c</th>\n",
       "      <th>Name</th>\n",
       "      <th>StartDate__c</th>\n",
       "      <th>EndDate__c</th>\n",
       "    </tr>\n",
       "  </thead>\n",
       "  <tbody>\n",
       "    <tr>\n",
       "      <td>0</td>\n",
       "      <td>1</td>\n",
       "      <td>1</td>\n",
       "      <td>GWU-ARL-DATA-PT-09-0</td>\n",
       "      <td>2020-03-16</td>\n",
       "      <td>2020-03-14</td>\n",
       "    </tr>\n",
       "    <tr>\n",
       "      <td>1</td>\n",
       "      <td>2</td>\n",
       "      <td>1</td>\n",
       "      <td>GWDC201805DATA3</td>\n",
       "      <td>2018-05-15</td>\n",
       "      <td>2018-11-08</td>\n",
       "    </tr>\n",
       "    <tr>\n",
       "      <td>2</td>\n",
       "      <td>3</td>\n",
       "      <td>2</td>\n",
       "      <td>GWARL201905WEB3</td>\n",
       "      <td>2019-05-14</td>\n",
       "      <td>2019-11-07</td>\n",
       "    </tr>\n",
       "    <tr>\n",
       "      <td>3</td>\n",
       "      <td>4</td>\n",
       "      <td>3</td>\n",
       "      <td>GWARL201905UIUX3</td>\n",
       "      <td>2019-05-14</td>\n",
       "      <td>2019-11-07</td>\n",
       "    </tr>\n",
       "  </tbody>\n",
       "</table>\n",
       "</div>"
      ],
      "text/plain": [
       "   ID_Class__c  ID_Course__c                  Name StartDate__c  EndDate__c\n",
       "0            1             1  GWU-ARL-DATA-PT-09-0   2020-03-16  2020-03-14\n",
       "1            2             1       GWDC201805DATA3   2018-05-15  2018-11-08\n",
       "2            3             2       GWARL201905WEB3   2019-05-14  2019-11-07\n",
       "3            4             3      GWARL201905UIUX3   2019-05-14  2019-11-07"
      ]
     },
     "execution_count": 12,
     "metadata": {},
     "output_type": "execute_result"
    }
   ],
   "source": [
    "class_data=class_data.rename(columns={\"ID_Class\":\"ID_Class__c\",\"ID_Course\":\"ID_Course__c\",\"Section\":\"Name\",\n",
    "                                      \"StartDate\":\"StartDate__c\",\"EndDate\":\"EndDate__c\"})\n",
    "\n",
    "class_data.head(5)"
   ]
  },
  {
   "cell_type": "code",
   "execution_count": 13,
   "metadata": {},
   "outputs": [],
   "source": [
    "class_data[\"StartDate__c\"]=class_data[\"StartDate__c\"].astype(str)\n",
    "class_data[\"EndDate__c\"]=class_data[\"EndDate__c\"].astype(str)"
   ]
  },
  {
   "cell_type": "markdown",
   "metadata": {},
   "source": [
    "### Extract Record ID "
   ]
  },
  {
   "cell_type": "code",
   "execution_count": 14,
   "metadata": {},
   "outputs": [],
   "source": [
    "course_query=sf.query(\"SELECT ID_Course__c from Course__c\")"
   ]
  },
  {
   "cell_type": "code",
   "execution_count": 15,
   "metadata": {},
   "outputs": [
    {
     "data": {
      "text/plain": [
       "OrderedDict([('totalSize', 8),\n",
       "             ('done', True),\n",
       "             ('records',\n",
       "              [OrderedDict([('attributes',\n",
       "                             OrderedDict([('type', 'Course__c'),\n",
       "                                          ('url',\n",
       "                                           '/services/data/v42.0/sobjects/Course__c/a013h00000721iaAAA')])),\n",
       "                            ('ID_Course__c', 1.0)]),\n",
       "               OrderedDict([('attributes',\n",
       "                             OrderedDict([('type', 'Course__c'),\n",
       "                                          ('url',\n",
       "                                           '/services/data/v42.0/sobjects/Course__c/a013h00000721ibAAA')])),\n",
       "                            ('ID_Course__c', 2.0)]),\n",
       "               OrderedDict([('attributes',\n",
       "                             OrderedDict([('type', 'Course__c'),\n",
       "                                          ('url',\n",
       "                                           '/services/data/v42.0/sobjects/Course__c/a013h00000721icAAA')])),\n",
       "                            ('ID_Course__c', 3.0)]),\n",
       "               OrderedDict([('attributes',\n",
       "                             OrderedDict([('type', 'Course__c'),\n",
       "                                          ('url',\n",
       "                                           '/services/data/v42.0/sobjects/Course__c/a013h00000721idAAA')])),\n",
       "                            ('ID_Course__c', 4.0)]),\n",
       "               OrderedDict([('attributes',\n",
       "                             OrderedDict([('type', 'Course__c'),\n",
       "                                          ('url',\n",
       "                                           '/services/data/v42.0/sobjects/Course__c/a013h00000721ieAAA')])),\n",
       "                            ('ID_Course__c', 5.0)]),\n",
       "               OrderedDict([('attributes',\n",
       "                             OrderedDict([('type', 'Course__c'),\n",
       "                                          ('url',\n",
       "                                           '/services/data/v42.0/sobjects/Course__c/a013h00000721ifAAA')])),\n",
       "                            ('ID_Course__c', 6.0)]),\n",
       "               OrderedDict([('attributes',\n",
       "                             OrderedDict([('type', 'Course__c'),\n",
       "                                          ('url',\n",
       "                                           '/services/data/v42.0/sobjects/Course__c/a013h00000721igAAA')])),\n",
       "                            ('ID_Course__c', 7.0)]),\n",
       "               OrderedDict([('attributes',\n",
       "                             OrderedDict([('type', 'Course__c'),\n",
       "                                          ('url',\n",
       "                                           '/services/data/v42.0/sobjects/Course__c/a013h00000721ihAAA')])),\n",
       "                            ('ID_Course__c', 8.0)])])])"
      ]
     },
     "execution_count": 15,
     "metadata": {},
     "output_type": "execute_result"
    }
   ],
   "source": [
    "course_query"
   ]
  },
  {
   "cell_type": "code",
   "execution_count": 16,
   "metadata": {},
   "outputs": [
    {
     "name": "stdout",
     "output_type": "stream",
     "text": [
      "a013h00000721iaAAA 1\n",
      "a013h00000721ibAAA 2\n",
      "a013h00000721icAAA 3\n",
      "a013h00000721idAAA 4\n",
      "a013h00000721ieAAA 5\n",
      "a013h00000721ifAAA 6\n",
      "a013h00000721igAAA 7\n",
      "a013h00000721ihAAA 8\n",
      "{1: 'a013h00000721iaAAA', 2: 'a013h00000721ibAAA', 3: 'a013h00000721icAAA', 4: 'a013h00000721idAAA', 5: 'a013h00000721ieAAA', 6: 'a013h00000721ifAAA', 7: 'a013h00000721igAAA', 8: 'a013h00000721ihAAA'}\n"
     ]
    }
   ],
   "source": [
    "course_dict={}\n",
    "x=0\n",
    "while x< len(query['records']):\n",
    "    url=query['records'][x]['attributes']['url'].split('/')[6]\n",
    "    course_id=int(query['records'][x]['ID_Course__c'])\n",
    "    print(url,course_id)\n",
    "    course_dict[course_id]=url\n",
    "    x=x+1\n",
    "print(course_dict)"
   ]
  },
  {
   "cell_type": "code",
   "execution_count": 17,
   "metadata": {},
   "outputs": [
    {
     "name": "stderr",
     "output_type": "stream",
     "text": [
      "C:\\Users\\clemi\\Anaconda3\\lib\\site-packages\\ipykernel_launcher.py:2: SettingWithCopyWarning: \n",
      "A value is trying to be set on a copy of a slice from a DataFrame\n",
      "\n",
      "See the caveats in the documentation: http://pandas.pydata.org/pandas-docs/stable/user_guide/indexing.html#returning-a-view-versus-a-copy\n",
      "  \n",
      "C:\\Users\\clemi\\Anaconda3\\lib\\site-packages\\pandas\\core\\indexing.py:205: SettingWithCopyWarning: \n",
      "A value is trying to be set on a copy of a slice from a DataFrame\n",
      "\n",
      "See the caveats in the documentation: http://pandas.pydata.org/pandas-docs/stable/user_guide/indexing.html#returning-a-view-versus-a-copy\n",
      "  self._setitem_with_indexer(indexer, value)\n"
     ]
    },
    {
     "data": {
      "text/html": [
       "<div>\n",
       "<style scoped>\n",
       "    .dataframe tbody tr th:only-of-type {\n",
       "        vertical-align: middle;\n",
       "    }\n",
       "\n",
       "    .dataframe tbody tr th {\n",
       "        vertical-align: top;\n",
       "    }\n",
       "\n",
       "    .dataframe thead th {\n",
       "        text-align: right;\n",
       "    }\n",
       "</style>\n",
       "<table border=\"1\" class=\"dataframe\">\n",
       "  <thead>\n",
       "    <tr style=\"text-align: right;\">\n",
       "      <th></th>\n",
       "      <th>ID_Class__c</th>\n",
       "      <th>ID_Course__c</th>\n",
       "      <th>Name</th>\n",
       "      <th>StartDate__c</th>\n",
       "      <th>EndDate__c</th>\n",
       "    </tr>\n",
       "  </thead>\n",
       "  <tbody>\n",
       "    <tr>\n",
       "      <td>0</td>\n",
       "      <td>1</td>\n",
       "      <td>a013h00000721iaAAA</td>\n",
       "      <td>GWU-ARL-DATA-PT-09-0</td>\n",
       "      <td>2020-03-16</td>\n",
       "      <td>2020-03-14</td>\n",
       "    </tr>\n",
       "    <tr>\n",
       "      <td>1</td>\n",
       "      <td>2</td>\n",
       "      <td>a013h00000721iaAAA</td>\n",
       "      <td>GWDC201805DATA3</td>\n",
       "      <td>2018-05-15</td>\n",
       "      <td>2018-11-08</td>\n",
       "    </tr>\n",
       "    <tr>\n",
       "      <td>2</td>\n",
       "      <td>3</td>\n",
       "      <td>a013h00000721ibAAA</td>\n",
       "      <td>GWARL201905WEB3</td>\n",
       "      <td>2019-05-14</td>\n",
       "      <td>2019-11-07</td>\n",
       "    </tr>\n",
       "    <tr>\n",
       "      <td>3</td>\n",
       "      <td>4</td>\n",
       "      <td>a013h00000721icAAA</td>\n",
       "      <td>GWARL201905UIUX3</td>\n",
       "      <td>2019-05-14</td>\n",
       "      <td>2019-11-07</td>\n",
       "    </tr>\n",
       "  </tbody>\n",
       "</table>\n",
       "</div>"
      ],
      "text/plain": [
       "   ID_Class__c        ID_Course__c                  Name StartDate__c  \\\n",
       "0            1  a013h00000721iaAAA  GWU-ARL-DATA-PT-09-0   2020-03-16   \n",
       "1            2  a013h00000721iaAAA       GWDC201805DATA3   2018-05-15   \n",
       "2            3  a013h00000721ibAAA       GWARL201905WEB3   2019-05-14   \n",
       "3            4  a013h00000721icAAA      GWARL201905UIUX3   2019-05-14   \n",
       "\n",
       "   EndDate__c  \n",
       "0  2020-03-14  \n",
       "1  2018-11-08  \n",
       "2  2019-11-07  \n",
       "3  2019-11-07  "
      ]
     },
     "execution_count": 17,
     "metadata": {},
     "output_type": "execute_result"
    }
   ],
   "source": [
    "for index,row in class_data.iterrows():\n",
    "    class_data['ID_Course__c'][index]=course_dict[row['ID_Course__c']]\n",
    "class_data"
   ]
  },
  {
   "cell_type": "code",
   "execution_count": 20,
   "metadata": {},
   "outputs": [],
   "source": [
    "class_query=sf.query(\"SELECT ID_Class__c from Class__c\")"
   ]
  },
  {
   "cell_type": "code",
   "execution_count": 21,
   "metadata": {},
   "outputs": [
    {
     "data": {
      "text/plain": [
       "OrderedDict([('totalSize', 0), ('done', True), ('records', [])])"
      ]
     },
     "execution_count": 21,
     "metadata": {},
     "output_type": "execute_result"
    }
   ],
   "source": [
    "class_query"
   ]
  },
  {
   "cell_type": "code",
   "execution_count": null,
   "metadata": {},
   "outputs": [],
   "source": []
  },
  {
   "cell_type": "code",
   "execution_count": null,
   "metadata": {},
   "outputs": [],
   "source": []
  },
  {
   "cell_type": "code",
   "execution_count": null,
   "metadata": {},
   "outputs": [],
   "source": []
  },
  {
   "cell_type": "code",
   "execution_count": null,
   "metadata": {},
   "outputs": [],
   "source": []
  },
  {
   "cell_type": "code",
   "execution_count": null,
   "metadata": {},
   "outputs": [],
   "source": []
  },
  {
   "cell_type": "markdown",
   "metadata": {},
   "source": [
    "### Convert DataFrame to a list Dictionaries "
   ]
  },
  {
   "cell_type": "code",
   "execution_count": 18,
   "metadata": {},
   "outputs": [
    {
     "data": {
      "text/plain": [
       "[{'ID_Class__c': 1,\n",
       "  'ID_Course__c': 'a013h00000721iaAAA',\n",
       "  'Name': 'GWU-ARL-DATA-PT-09-0',\n",
       "  'StartDate__c': '2020-03-16',\n",
       "  'EndDate__c': '2020-03-14'},\n",
       " {'ID_Class__c': 2,\n",
       "  'ID_Course__c': 'a013h00000721iaAAA',\n",
       "  'Name': 'GWDC201805DATA3',\n",
       "  'StartDate__c': '2018-05-15',\n",
       "  'EndDate__c': '2018-11-08'},\n",
       " {'ID_Class__c': 3,\n",
       "  'ID_Course__c': 'a013h00000721ibAAA',\n",
       "  'Name': 'GWARL201905WEB3',\n",
       "  'StartDate__c': '2019-05-14',\n",
       "  'EndDate__c': '2019-11-07'},\n",
       " {'ID_Class__c': 4,\n",
       "  'ID_Course__c': 'a013h00000721icAAA',\n",
       "  'Name': 'GWARL201905UIUX3',\n",
       "  'StartDate__c': '2019-05-14',\n",
       "  'EndDate__c': '2019-11-07'}]"
      ]
     },
     "execution_count": 18,
     "metadata": {},
     "output_type": "execute_result"
    }
   ],
   "source": [
    "class_load = class_data.to_dict('records')\n",
    "class_load"
   ]
  },
  {
   "cell_type": "markdown",
   "metadata": {},
   "source": [
    "### Inserting rows in bulk "
   ]
  },
  {
   "cell_type": "code",
   "execution_count": 19,
   "metadata": {},
   "outputs": [],
   "source": [
    "try:\n",
    "    sf.bulk.Class__c.insert(class_load)\n",
    "except Exception as e:\n",
    "    print(e)"
   ]
  }
 ],
 "metadata": {
  "kernelspec": {
   "display_name": "Python 3",
   "language": "python",
   "name": "python3"
  },
  "language_info": {
   "codemirror_mode": {
    "name": "ipython",
    "version": 3
   },
   "file_extension": ".py",
   "mimetype": "text/x-python",
   "name": "python",
   "nbconvert_exporter": "python",
   "pygments_lexer": "ipython3",
   "version": "3.7.4"
  }
 },
 "nbformat": 4,
 "nbformat_minor": 2
}
