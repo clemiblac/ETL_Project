{
 "cells": [
  {
   "cell_type": "code",
   "execution_count": null,
   "metadata": {},
   "outputs": [],
   "source": [
    "#!pip install simple_salesforce #allows us to work with salesforce API"
   ]
  },
  {
   "cell_type": "code",
   "execution_count": 1,
   "metadata": {},
   "outputs": [
    {
     "data": {
      "text/plain": [
       "'C:\\\\Users\\\\clemi\\\\Desktop\\\\Clementine-GWU-HW\\\\ETL_Project'"
      ]
     },
     "execution_count": 1,
     "metadata": {},
     "output_type": "execute_result"
    }
   ],
   "source": [
    "import os\n",
    "orig_working_directory=os.getcwd()\n",
    "orig_working_directory"
   ]
  },
  {
   "cell_type": "code",
   "execution_count": 2,
   "metadata": {},
   "outputs": [
    {
     "data": {
      "text/plain": [
       "'C:\\\\Users\\\\clemi\\\\Desktop\\\\Clementine-GWU-HW'"
      ]
     },
     "execution_count": 2,
     "metadata": {},
     "output_type": "execute_result"
    }
   ],
   "source": [
    "os.chdir(os.path.join('..'))\n",
    "curr_working_directory=os.getcwd()\n",
    "curr_working_directory"
   ]
  },
  {
   "cell_type": "markdown",
   "metadata": {},
   "source": [
    "## Import Dependencies"
   ]
  },
  {
   "cell_type": "code",
   "execution_count": 3,
   "metadata": {},
   "outputs": [],
   "source": [
    "import json\n",
    "from sqlalchemy import create_engine\n",
    "import pandas as pd\n",
    "import pymysql\n",
    "pymysql.install_as_MySQLdb()"
   ]
  },
  {
   "cell_type": "markdown",
   "metadata": {},
   "source": [
    "## Import configuration variables"
   ]
  },
  {
   "cell_type": "code",
   "execution_count": 4,
   "metadata": {},
   "outputs": [],
   "source": [
    "from salesforce_config import sf_username, sf_password, sf_security_token\n",
    "from salesforce_config import remote_db_endpoint, remote_db_port\n",
    "from salesforce_config import remote_db_name, remote_db_user, remote_db_pwd"
   ]
  },
  {
   "cell_type": "markdown",
   "metadata": {},
   "source": [
    "## Set up simple_salesforce"
   ]
  },
  {
   "cell_type": "code",
   "execution_count": 5,
   "metadata": {},
   "outputs": [],
   "source": [
    "from simple_salesforce import Salesforce\n",
    "sf = Salesforce(username=sf_username, password=sf_password, security_token=sf_security_token)"
   ]
  },
  {
   "cell_type": "markdown",
   "metadata": {},
   "source": [
    "## Connect to your MySQL database"
   ]
  },
  {
   "cell_type": "code",
   "execution_count": 6,
   "metadata": {},
   "outputs": [],
   "source": [
    "engine = create_engine(f\"mysql://{remote_db_user}:{remote_db_pwd}@{remote_db_endpoint}:{remote_db_port}/{remote_db_name}\")\n",
    "conn = engine.connect()"
   ]
  },
  {
   "cell_type": "markdown",
   "metadata": {},
   "source": [
    "## Query Data"
   ]
  },
  {
   "cell_type": "code",
   "execution_count": 7,
   "metadata": {},
   "outputs": [
    {
     "data": {
      "text/html": [
       "<div>\n",
       "<style scoped>\n",
       "    .dataframe tbody tr th:only-of-type {\n",
       "        vertical-align: middle;\n",
       "    }\n",
       "\n",
       "    .dataframe tbody tr th {\n",
       "        vertical-align: top;\n",
       "    }\n",
       "\n",
       "    .dataframe thead th {\n",
       "        text-align: right;\n",
       "    }\n",
       "</style>\n",
       "<table border=\"1\" class=\"dataframe\">\n",
       "  <thead>\n",
       "    <tr style=\"text-align: right;\">\n",
       "      <th></th>\n",
       "      <th>ID_Student</th>\n",
       "      <th>StudentID</th>\n",
       "      <th>LastName</th>\n",
       "      <th>FirstName</th>\n",
       "      <th>MiddleName</th>\n",
       "      <th>BirthDate</th>\n",
       "      <th>Gender</th>\n",
       "    </tr>\n",
       "  </thead>\n",
       "  <tbody>\n",
       "    <tr>\n",
       "      <td>0</td>\n",
       "      <td>33</td>\n",
       "      <td>25004961</td>\n",
       "      <td>Moore</td>\n",
       "      <td>Heather</td>\n",
       "      <td>Alice</td>\n",
       "      <td>None</td>\n",
       "      <td>F</td>\n",
       "    </tr>\n",
       "    <tr>\n",
       "      <td>1</td>\n",
       "      <td>34</td>\n",
       "      <td>25003514</td>\n",
       "      <td>Multak</td>\n",
       "      <td>Ilana</td>\n",
       "      <td>Cecille</td>\n",
       "      <td>None</td>\n",
       "      <td>F</td>\n",
       "    </tr>\n",
       "    <tr>\n",
       "      <td>2</td>\n",
       "      <td>35</td>\n",
       "      <td>25005833</td>\n",
       "      <td>Murillo</td>\n",
       "      <td>Jessica</td>\n",
       "      <td>Dorothy</td>\n",
       "      <td>None</td>\n",
       "      <td>F</td>\n",
       "    </tr>\n",
       "    <tr>\n",
       "      <td>3</td>\n",
       "      <td>36</td>\n",
       "      <td>25002589</td>\n",
       "      <td>Romanowski</td>\n",
       "      <td>Kandra</td>\n",
       "      <td>Genevieve</td>\n",
       "      <td>None</td>\n",
       "      <td>F</td>\n",
       "    </tr>\n",
       "    <tr>\n",
       "      <td>4</td>\n",
       "      <td>37</td>\n",
       "      <td>25007185</td>\n",
       "      <td>Hoffer</td>\n",
       "      <td>Katherine</td>\n",
       "      <td>Lynnette</td>\n",
       "      <td>None</td>\n",
       "      <td>F</td>\n",
       "    </tr>\n",
       "  </tbody>\n",
       "</table>\n",
       "</div>"
      ],
      "text/plain": [
       "   ID_Student StudentID    LastName  FirstName MiddleName BirthDate Gender\n",
       "0          33  25004961       Moore    Heather      Alice      None      F\n",
       "1          34  25003514      Multak      Ilana    Cecille      None      F\n",
       "2          35  25005833     Murillo    Jessica    Dorothy      None      F\n",
       "3          36  25002589  Romanowski     Kandra  Genevieve      None      F\n",
       "4          37  25007185      Hoffer  Katherine   Lynnette      None      F"
      ]
     },
     "execution_count": 7,
     "metadata": {},
     "output_type": "execute_result"
    }
   ],
   "source": [
    "student_data = pd.read_sql(\"SELECT * FROM student\", conn)\n",
    "student_data.head(5)"
   ]
  },
  {
   "cell_type": "markdown",
   "metadata": {},
   "source": [
    "## Transform Data"
   ]
  },
  {
   "cell_type": "code",
   "execution_count": 8,
   "metadata": {},
   "outputs": [
    {
     "data": {
      "text/html": [
       "<div>\n",
       "<style scoped>\n",
       "    .dataframe tbody tr th:only-of-type {\n",
       "        vertical-align: middle;\n",
       "    }\n",
       "\n",
       "    .dataframe tbody tr th {\n",
       "        vertical-align: top;\n",
       "    }\n",
       "\n",
       "    .dataframe thead th {\n",
       "        text-align: right;\n",
       "    }\n",
       "</style>\n",
       "<table border=\"1\" class=\"dataframe\">\n",
       "  <thead>\n",
       "    <tr style=\"text-align: right;\">\n",
       "      <th></th>\n",
       "      <th>ID_Student__c</th>\n",
       "      <th>StudentID__c</th>\n",
       "      <th>Name</th>\n",
       "      <th>FirstName__c</th>\n",
       "      <th>MiddleName__c</th>\n",
       "      <th>BirthDate__c</th>\n",
       "      <th>Gender__c</th>\n",
       "    </tr>\n",
       "  </thead>\n",
       "  <tbody>\n",
       "    <tr>\n",
       "      <td>0</td>\n",
       "      <td>33</td>\n",
       "      <td>25004961</td>\n",
       "      <td>Moore</td>\n",
       "      <td>Heather</td>\n",
       "      <td>Alice</td>\n",
       "      <td>None</td>\n",
       "      <td>F</td>\n",
       "    </tr>\n",
       "    <tr>\n",
       "      <td>1</td>\n",
       "      <td>34</td>\n",
       "      <td>25003514</td>\n",
       "      <td>Multak</td>\n",
       "      <td>Ilana</td>\n",
       "      <td>Cecille</td>\n",
       "      <td>None</td>\n",
       "      <td>F</td>\n",
       "    </tr>\n",
       "    <tr>\n",
       "      <td>2</td>\n",
       "      <td>35</td>\n",
       "      <td>25005833</td>\n",
       "      <td>Murillo</td>\n",
       "      <td>Jessica</td>\n",
       "      <td>Dorothy</td>\n",
       "      <td>None</td>\n",
       "      <td>F</td>\n",
       "    </tr>\n",
       "    <tr>\n",
       "      <td>3</td>\n",
       "      <td>36</td>\n",
       "      <td>25002589</td>\n",
       "      <td>Romanowski</td>\n",
       "      <td>Kandra</td>\n",
       "      <td>Genevieve</td>\n",
       "      <td>None</td>\n",
       "      <td>F</td>\n",
       "    </tr>\n",
       "    <tr>\n",
       "      <td>4</td>\n",
       "      <td>37</td>\n",
       "      <td>25007185</td>\n",
       "      <td>Hoffer</td>\n",
       "      <td>Katherine</td>\n",
       "      <td>Lynnette</td>\n",
       "      <td>None</td>\n",
       "      <td>F</td>\n",
       "    </tr>\n",
       "  </tbody>\n",
       "</table>\n",
       "</div>"
      ],
      "text/plain": [
       "   ID_Student__c StudentID__c        Name FirstName__c MiddleName__c  \\\n",
       "0             33     25004961       Moore      Heather         Alice   \n",
       "1             34     25003514      Multak        Ilana       Cecille   \n",
       "2             35     25005833     Murillo      Jessica       Dorothy   \n",
       "3             36     25002589  Romanowski       Kandra     Genevieve   \n",
       "4             37     25007185      Hoffer    Katherine      Lynnette   \n",
       "\n",
       "  BirthDate__c Gender__c  \n",
       "0         None         F  \n",
       "1         None         F  \n",
       "2         None         F  \n",
       "3         None         F  \n",
       "4         None         F  "
      ]
     },
     "execution_count": 8,
     "metadata": {},
     "output_type": "execute_result"
    }
   ],
   "source": [
    "#student_data['FullName'] = student_data['FirstName'].str.cat(student_data['LastName'], sep=\" \")\n",
    "student_data=student_data.rename(columns={\"ID_Student\":\"ID_Student__c\",\"StudentID\":\"StudentID__c\",\"LastName\":\"Name\",\n",
    "                                       \"FirstName\":\"FirstName__c\",\"MiddleName\":\"MiddleName__c\",\"Gender\":\"Gender__c\",\n",
    "                                        \"BirthDate\":\"BirthDate__c\"})\n",
    "student_data.head(5)"
   ]
  },
  {
   "cell_type": "markdown",
   "metadata": {},
   "source": [
    "## Convert DataFrame to a list of Dictionaries"
   ]
  },
  {
   "cell_type": "code",
   "execution_count": null,
   "metadata": {},
   "outputs": [],
   "source": [
    "student_load = student_data.to_dict('records')\n",
    "student_load"
   ]
  },
  {
   "cell_type": "markdown",
   "metadata": {},
   "source": [
    "## Inserting rows in bulk"
   ]
  },
  {
   "cell_type": "code",
   "execution_count": null,
   "metadata": {},
   "outputs": [],
   "source": [
    "try:\n",
    "    sf.bulk.Student__c.insert(student_load) #Student__c is the API name\n",
    "except Exception as e:\n",
    "    print(e)"
   ]
  },
  {
   "cell_type": "code",
   "execution_count": null,
   "metadata": {},
   "outputs": [],
   "source": []
  },
  {
   "cell_type": "code",
   "execution_count": null,
   "metadata": {},
   "outputs": [],
   "source": []
  },
  {
   "cell_type": "code",
   "execution_count": null,
   "metadata": {},
   "outputs": [],
   "source": []
  },
  {
   "cell_type": "code",
   "execution_count": null,
   "metadata": {},
   "outputs": [],
   "source": []
  },
  {
   "cell_type": "code",
   "execution_count": null,
   "metadata": {},
   "outputs": [],
   "source": []
  },
  {
   "cell_type": "code",
   "execution_count": null,
   "metadata": {},
   "outputs": [],
   "source": []
  },
  {
   "cell_type": "code",
   "execution_count": null,
   "metadata": {},
   "outputs": [],
   "source": []
  },
  {
   "cell_type": "code",
   "execution_count": null,
   "metadata": {},
   "outputs": [],
   "source": []
  },
  {
   "cell_type": "code",
   "execution_count": null,
   "metadata": {},
   "outputs": [],
   "source": []
  },
  {
   "cell_type": "code",
   "execution_count": null,
   "metadata": {},
   "outputs": [],
   "source": []
  },
  {
   "cell_type": "code",
   "execution_count": null,
   "metadata": {},
   "outputs": [],
   "source": []
  },
  {
   "cell_type": "code",
   "execution_count": null,
   "metadata": {},
   "outputs": [],
   "source": []
  },
  {
   "cell_type": "code",
   "execution_count": null,
   "metadata": {},
   "outputs": [],
   "source": []
  }
 ],
 "metadata": {
  "kernelspec": {
   "display_name": "Python 3",
   "language": "python",
   "name": "python3"
  },
  "language_info": {
   "codemirror_mode": {
    "name": "ipython",
    "version": 3
   },
   "file_extension": ".py",
   "mimetype": "text/x-python",
   "name": "python",
   "nbconvert_exporter": "python",
   "pygments_lexer": "ipython3",
   "version": "3.7.4"
  }
 },
 "nbformat": 4,
 "nbformat_minor": 2
}
