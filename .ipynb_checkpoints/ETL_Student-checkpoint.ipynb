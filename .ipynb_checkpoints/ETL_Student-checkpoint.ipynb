{
 "cells": [
  {
   "cell_type": "code",
   "execution_count": 1,
   "metadata": {},
   "outputs": [],
   "source": [
    "#!pip install simple_salesforce #allows us to work with salesforce API"
   ]
  },
  {
   "cell_type": "code",
   "execution_count": 2,
   "metadata": {},
   "outputs": [
    {
     "data": {
      "text/plain": [
       "'C:\\\\Users\\\\clemi\\\\Desktop\\\\Clementine-GWU-HW\\\\ETL_Project'"
      ]
     },
     "execution_count": 2,
     "metadata": {},
     "output_type": "execute_result"
    }
   ],
   "source": [
    "import os\n",
    "orig_working_directory=os.getcwd()\n",
    "orig_working_directory"
   ]
  },
  {
   "cell_type": "code",
   "execution_count": 3,
   "metadata": {},
   "outputs": [
    {
     "data": {
      "text/plain": [
       "'C:\\\\Users\\\\clemi\\\\Desktop\\\\Clementine-GWU-HW'"
      ]
     },
     "execution_count": 3,
     "metadata": {},
     "output_type": "execute_result"
    }
   ],
   "source": [
    "os.chdir(os.path.join('..'))\n",
    "curr_working_directory=os.getcwd()\n",
    "curr_working_directory"
   ]
  },
  {
   "cell_type": "markdown",
   "metadata": {},
   "source": [
    "## Import Dependencies"
   ]
  },
  {
   "cell_type": "code",
   "execution_count": 4,
   "metadata": {},
   "outputs": [],
   "source": [
    "import json\n",
    "from sqlalchemy import create_engine\n",
    "import pandas as pd\n",
    "import pymysql\n",
    "pymysql.install_as_MySQLdb()"
   ]
  },
  {
   "cell_type": "markdown",
   "metadata": {},
   "source": [
    "## Import configuration variables"
   ]
  },
  {
   "cell_type": "code",
   "execution_count": 5,
   "metadata": {},
   "outputs": [],
   "source": [
    "from salesforce_config import sf_username, sf_password, sf_security_token\n",
    "from salesforce_config import remote_db_endpoint, remote_db_port\n",
    "from salesforce_config import remote_db_name, remote_db_user, remote_db_pwd"
   ]
  },
  {
   "cell_type": "markdown",
   "metadata": {},
   "source": [
    "## Set up simple_salesforce"
   ]
  },
  {
   "cell_type": "code",
   "execution_count": 6,
   "metadata": {},
   "outputs": [],
   "source": [
    "from simple_salesforce import Salesforce\n",
    "sf = Salesforce(username=sf_username, password=sf_password, security_token=sf_security_token)"
   ]
  },
  {
   "cell_type": "markdown",
   "metadata": {},
   "source": [
    "## Connect to your MySQL database"
   ]
  },
  {
   "cell_type": "code",
   "execution_count": 7,
   "metadata": {},
   "outputs": [],
   "source": [
    "engine = create_engine(f\"mysql://{remote_db_user}:{remote_db_pwd}@{remote_db_endpoint}:{remote_db_port}/{remote_db_name}\")\n",
    "conn = engine.connect()"
   ]
  },
  {
   "cell_type": "markdown",
   "metadata": {},
   "source": [
    "## Query Data"
   ]
  },
  {
   "cell_type": "code",
   "execution_count": 8,
   "metadata": {},
   "outputs": [
    {
     "data": {
      "text/html": [
       "<div>\n",
       "<style scoped>\n",
       "    .dataframe tbody tr th:only-of-type {\n",
       "        vertical-align: middle;\n",
       "    }\n",
       "\n",
       "    .dataframe tbody tr th {\n",
       "        vertical-align: top;\n",
       "    }\n",
       "\n",
       "    .dataframe thead th {\n",
       "        text-align: right;\n",
       "    }\n",
       "</style>\n",
       "<table border=\"1\" class=\"dataframe\">\n",
       "  <thead>\n",
       "    <tr style=\"text-align: right;\">\n",
       "      <th></th>\n",
       "      <th>ID_Student</th>\n",
       "      <th>StudentID</th>\n",
       "      <th>LastName</th>\n",
       "      <th>FirstName</th>\n",
       "      <th>MiddleName</th>\n",
       "      <th>BirthDate</th>\n",
       "      <th>Gender</th>\n",
       "    </tr>\n",
       "  </thead>\n",
       "  <tbody>\n",
       "    <tr>\n",
       "      <td>0</td>\n",
       "      <td>33</td>\n",
       "      <td>25004961</td>\n",
       "      <td>Moore</td>\n",
       "      <td>Heather</td>\n",
       "      <td>Alice</td>\n",
       "      <td>None</td>\n",
       "      <td>F</td>\n",
       "    </tr>\n",
       "    <tr>\n",
       "      <td>1</td>\n",
       "      <td>34</td>\n",
       "      <td>25003514</td>\n",
       "      <td>Multak</td>\n",
       "      <td>Ilana</td>\n",
       "      <td>Cecille</td>\n",
       "      <td>None</td>\n",
       "      <td>F</td>\n",
       "    </tr>\n",
       "    <tr>\n",
       "      <td>2</td>\n",
       "      <td>35</td>\n",
       "      <td>25005833</td>\n",
       "      <td>Murillo</td>\n",
       "      <td>Jessica</td>\n",
       "      <td>Dorothy</td>\n",
       "      <td>None</td>\n",
       "      <td>F</td>\n",
       "    </tr>\n",
       "    <tr>\n",
       "      <td>3</td>\n",
       "      <td>36</td>\n",
       "      <td>25002589</td>\n",
       "      <td>Romanowski</td>\n",
       "      <td>Kandra</td>\n",
       "      <td>Genevieve</td>\n",
       "      <td>None</td>\n",
       "      <td>F</td>\n",
       "    </tr>\n",
       "    <tr>\n",
       "      <td>4</td>\n",
       "      <td>37</td>\n",
       "      <td>25007185</td>\n",
       "      <td>Hoffer</td>\n",
       "      <td>Katherine</td>\n",
       "      <td>Lynnette</td>\n",
       "      <td>None</td>\n",
       "      <td>F</td>\n",
       "    </tr>\n",
       "  </tbody>\n",
       "</table>\n",
       "</div>"
      ],
      "text/plain": [
       "   ID_Student StudentID    LastName  FirstName MiddleName BirthDate Gender\n",
       "0          33  25004961       Moore    Heather      Alice      None      F\n",
       "1          34  25003514      Multak      Ilana    Cecille      None      F\n",
       "2          35  25005833     Murillo    Jessica    Dorothy      None      F\n",
       "3          36  25002589  Romanowski     Kandra  Genevieve      None      F\n",
       "4          37  25007185      Hoffer  Katherine   Lynnette      None      F"
      ]
     },
     "execution_count": 8,
     "metadata": {},
     "output_type": "execute_result"
    }
   ],
   "source": [
    "student_data = pd.read_sql(\"SELECT * FROM student\", conn)\n",
    "student_data.head(5)"
   ]
  },
  {
   "cell_type": "markdown",
   "metadata": {},
   "source": [
    "## Transform Data"
   ]
  },
  {
   "cell_type": "code",
   "execution_count": 9,
   "metadata": {},
   "outputs": [
    {
     "data": {
      "text/html": [
       "<div>\n",
       "<style scoped>\n",
       "    .dataframe tbody tr th:only-of-type {\n",
       "        vertical-align: middle;\n",
       "    }\n",
       "\n",
       "    .dataframe tbody tr th {\n",
       "        vertical-align: top;\n",
       "    }\n",
       "\n",
       "    .dataframe thead th {\n",
       "        text-align: right;\n",
       "    }\n",
       "</style>\n",
       "<table border=\"1\" class=\"dataframe\">\n",
       "  <thead>\n",
       "    <tr style=\"text-align: right;\">\n",
       "      <th></th>\n",
       "      <th>ID_Student__c</th>\n",
       "      <th>StudentID__c</th>\n",
       "      <th>LastName__c</th>\n",
       "      <th>Name</th>\n",
       "      <th>MiddleName__c</th>\n",
       "      <th>Gender__c</th>\n",
       "    </tr>\n",
       "  </thead>\n",
       "  <tbody>\n",
       "    <tr>\n",
       "      <td>0</td>\n",
       "      <td>33</td>\n",
       "      <td>25004961</td>\n",
       "      <td>Moore</td>\n",
       "      <td>Heather</td>\n",
       "      <td>Alice</td>\n",
       "      <td>F</td>\n",
       "    </tr>\n",
       "    <tr>\n",
       "      <td>1</td>\n",
       "      <td>34</td>\n",
       "      <td>25003514</td>\n",
       "      <td>Multak</td>\n",
       "      <td>Ilana</td>\n",
       "      <td>Cecille</td>\n",
       "      <td>F</td>\n",
       "    </tr>\n",
       "    <tr>\n",
       "      <td>2</td>\n",
       "      <td>35</td>\n",
       "      <td>25005833</td>\n",
       "      <td>Murillo</td>\n",
       "      <td>Jessica</td>\n",
       "      <td>Dorothy</td>\n",
       "      <td>F</td>\n",
       "    </tr>\n",
       "    <tr>\n",
       "      <td>3</td>\n",
       "      <td>36</td>\n",
       "      <td>25002589</td>\n",
       "      <td>Romanowski</td>\n",
       "      <td>Kandra</td>\n",
       "      <td>Genevieve</td>\n",
       "      <td>F</td>\n",
       "    </tr>\n",
       "    <tr>\n",
       "      <td>4</td>\n",
       "      <td>37</td>\n",
       "      <td>25007185</td>\n",
       "      <td>Hoffer</td>\n",
       "      <td>Katherine</td>\n",
       "      <td>Lynnette</td>\n",
       "      <td>F</td>\n",
       "    </tr>\n",
       "  </tbody>\n",
       "</table>\n",
       "</div>"
      ],
      "text/plain": [
       "   ID_Student__c StudentID__c LastName__c       Name MiddleName__c Gender__c\n",
       "0             33     25004961       Moore    Heather         Alice         F\n",
       "1             34     25003514      Multak      Ilana       Cecille         F\n",
       "2             35     25005833     Murillo    Jessica       Dorothy         F\n",
       "3             36     25002589  Romanowski     Kandra     Genevieve         F\n",
       "4             37     25007185      Hoffer  Katherine      Lynnette         F"
      ]
     },
     "execution_count": 9,
     "metadata": {},
     "output_type": "execute_result"
    }
   ],
   "source": [
    "student_data['FullName'] = student_data['FirstName'].str.cat(student_data['LastName'], sep=\" \")\n",
    "student_data=student_data.rename(columns={\"ID_Student\":\"ID_Student__c\",\"StudentID\":\"StudentID__c\",\"LastName\":\"LastName__c\",\n",
    "                                       \"FirstName\":\"FirstName__c\",\"MiddleName\":\"MiddleName__c\",\"Gender\":\"Gender__c\",\n",
    "                                          \"FullName\":\"Name\"})\n",
    "student_data=student_data[[\"ID_Student__c\",\"StudentID__c\",\"LastName__c\",\"FirstName__c\",\"MiddleName__c\",\"Gender__c\",\"Name\"]]\n",
    "student_data.head(5)"
   ]
  },
  {
   "cell_type": "markdown",
   "metadata": {},
   "source": [
    "## Convert DataFrame to a list of Dictionaries"
   ]
  },
  {
   "cell_type": "code",
   "execution_count": 10,
   "metadata": {},
   "outputs": [
    {
     "data": {
      "text/plain": [
       "[{'ID_Student__c': 33,\n",
       "  'StudentID__c': '25004961',\n",
       "  'LastName__c': 'Moore',\n",
       "  'Name': 'Heather',\n",
       "  'MiddleName__c': 'Alice',\n",
       "  'Gender__c': 'F'},\n",
       " {'ID_Student__c': 34,\n",
       "  'StudentID__c': '25003514',\n",
       "  'LastName__c': 'Multak',\n",
       "  'Name': 'Ilana',\n",
       "  'MiddleName__c': 'Cecille',\n",
       "  'Gender__c': 'F'},\n",
       " {'ID_Student__c': 35,\n",
       "  'StudentID__c': '25005833',\n",
       "  'LastName__c': 'Murillo',\n",
       "  'Name': 'Jessica',\n",
       "  'MiddleName__c': 'Dorothy',\n",
       "  'Gender__c': 'F'},\n",
       " {'ID_Student__c': 36,\n",
       "  'StudentID__c': '25002589',\n",
       "  'LastName__c': 'Romanowski',\n",
       "  'Name': 'Kandra',\n",
       "  'MiddleName__c': 'Genevieve',\n",
       "  'Gender__c': 'F'},\n",
       " {'ID_Student__c': 37,\n",
       "  'StudentID__c': '25007185',\n",
       "  'LastName__c': 'Hoffer',\n",
       "  'Name': 'Katherine',\n",
       "  'MiddleName__c': 'Lynnette',\n",
       "  'Gender__c': 'F'},\n",
       " {'ID_Student__c': 38,\n",
       "  'StudentID__c': '25006014',\n",
       "  'LastName__c': 'Poocharoen',\n",
       "  'Name': 'Pariya',\n",
       "  'MiddleName__c': 'Mariette',\n",
       "  'Gender__c': 'F'},\n",
       " {'ID_Student__c': 39,\n",
       "  'StudentID__c': '25007528',\n",
       "  'LastName__c': 'Mantrala',\n",
       "  'Name': 'Sriharitha',\n",
       "  'MiddleName__c': 'Patty',\n",
       "  'Gender__c': 'F'},\n",
       " {'ID_Student__c': 40,\n",
       "  'StudentID__c': '25003778',\n",
       "  'LastName__c': 'Kelly',\n",
       "  'Name': 'Carly',\n",
       "  'MiddleName__c': 'Raelene',\n",
       "  'Gender__c': 'F'},\n",
       " {'ID_Student__c': 41,\n",
       "  'StudentID__c': '25003605',\n",
       "  'LastName__c': 'Sraha',\n",
       "  'Name': 'Clementine',\n",
       "  'MiddleName__c': 'Kendall',\n",
       "  'Gender__c': 'F'},\n",
       " {'ID_Student__c': 42,\n",
       "  'StudentID__c': '25002056',\n",
       "  'LastName__c': 'Abdulrahim',\n",
       "  'Name': 'Jawaher',\n",
       "  'MiddleName__c': 'Angela',\n",
       "  'Gender__c': 'F'},\n",
       " {'ID_Student__c': 43,\n",
       "  'StudentID__c': '25004152',\n",
       "  'LastName__c': 'Schulte',\n",
       "  'Name': 'Sarah',\n",
       "  'MiddleName__c': 'Serita',\n",
       "  'Gender__c': 'F'},\n",
       " {'ID_Student__c': 44,\n",
       "  'StudentID__c': '25004097',\n",
       "  'LastName__c': 'Damdinsuren',\n",
       "  'Name': 'Undraa',\n",
       "  'MiddleName__c': 'Claire',\n",
       "  'Gender__c': 'F'},\n",
       " {'ID_Student__c': 45,\n",
       "  'StudentID__c': '25002311',\n",
       "  'LastName__c': 'Smith',\n",
       "  'Name': 'James',\n",
       "  'MiddleName__c': 'Carlton',\n",
       "  'Gender__c': 'M'},\n",
       " {'ID_Student__c': 46,\n",
       "  'StudentID__c': '25005602',\n",
       "  'LastName__c': 'Martinez',\n",
       "  'Name': 'Joisel',\n",
       "  'MiddleName__c': 'Cyrus',\n",
       "  'Gender__c': 'M'},\n",
       " {'ID_Student__c': 47,\n",
       "  'StudentID__c': '25006805',\n",
       "  'LastName__c': 'Odhiambo',\n",
       "  'Name': 'Pius',\n",
       "  'MiddleName__c': 'Danny',\n",
       "  'Gender__c': 'M'},\n",
       " {'ID_Student__c': 48,\n",
       "  'StudentID__c': '25006947',\n",
       "  'LastName__c': 'Karr',\n",
       "  'Name': 'Todd',\n",
       "  'MiddleName__c': 'Darren',\n",
       "  'Gender__c': 'M'},\n",
       " {'ID_Student__c': 49,\n",
       "  'StudentID__c': '25002714',\n",
       "  'LastName__c': 'Stark',\n",
       "  'Name': 'Tom',\n",
       "  'MiddleName__c': 'Deangelo',\n",
       "  'Gender__c': 'M'},\n",
       " {'ID_Student__c': 50,\n",
       "  'StudentID__c': '25005284',\n",
       "  'LastName__c': 'Mahmood',\n",
       "  'Name': 'Adit',\n",
       "  'MiddleName__c': 'Dion',\n",
       "  'Gender__c': 'M'},\n",
       " {'ID_Student__c': 51,\n",
       "  'StudentID__c': '25006348',\n",
       "  'LastName__c': 'Mikus',\n",
       "  'Name': 'Chris',\n",
       "  'MiddleName__c': 'Floyd',\n",
       "  'Gender__c': 'M'},\n",
       " {'ID_Student__c': 52,\n",
       "  'StudentID__c': '25002555',\n",
       "  'LastName__c': 'Hanafin',\n",
       "  'Name': 'Christopher',\n",
       "  'MiddleName__c': 'Horace',\n",
       "  'Gender__c': 'M'},\n",
       " {'ID_Student__c': 53,\n",
       "  'StudentID__c': '25005250',\n",
       "  'LastName__c': 'Fingerut',\n",
       "  'Name': 'Cole',\n",
       "  'MiddleName__c': 'Lino',\n",
       "  'Gender__c': 'M'},\n",
       " {'ID_Student__c': 54,\n",
       "  'StudentID__c': '25002325',\n",
       "  'LastName__c': 'Hoff',\n",
       "  'Name': 'David',\n",
       "  'MiddleName__c': 'Lucien',\n",
       "  'Gender__c': 'M'},\n",
       " {'ID_Student__c': 55,\n",
       "  'StudentID__c': '25003773',\n",
       "  'LastName__c': 'Molina',\n",
       "  'Name': 'Dino',\n",
       "  'MiddleName__c': 'Lynwood',\n",
       "  'Gender__c': 'M'},\n",
       " {'ID_Student__c': 56,\n",
       "  'StudentID__c': '25003936',\n",
       "  'LastName__c': 'Vega',\n",
       "  'Name': 'John',\n",
       "  'MiddleName__c': 'Noelle',\n",
       "  'Gender__c': 'M'},\n",
       " {'ID_Student__c': 57,\n",
       "  'StudentID__c': '25005443',\n",
       "  'LastName__c': 'Clarke',\n",
       "  'Name': 'Michael',\n",
       "  'MiddleName__c': 'Parker',\n",
       "  'Gender__c': 'M'},\n",
       " {'ID_Student__c': 58,\n",
       "  'StudentID__c': '25006762',\n",
       "  'LastName__c': 'Huynh',\n",
       "  'Name': 'Patrick',\n",
       "  'MiddleName__c': 'Richard',\n",
       "  'Gender__c': 'M'},\n",
       " {'ID_Student__c': 59,\n",
       "  'StudentID__c': '25006027',\n",
       "  'LastName__c': 'Oppan',\n",
       "  'Name': 'Robert',\n",
       "  'MiddleName__c': 'Riley',\n",
       "  'Gender__c': 'M'},\n",
       " {'ID_Student__c': 60,\n",
       "  'StudentID__c': '25002876',\n",
       "  'LastName__c': 'Doucet',\n",
       "  'Name': 'Trevor',\n",
       "  'MiddleName__c': 'Seth',\n",
       "  'Gender__c': 'M'},\n",
       " {'ID_Student__c': 61,\n",
       "  'StudentID__c': '25007333',\n",
       "  'LastName__c': 'Omar',\n",
       "  'Name': 'Yasir',\n",
       "  'MiddleName__c': 'Solomon',\n",
       "  'Gender__c': 'M'},\n",
       " {'ID_Student__c': 62,\n",
       "  'StudentID__c': '25007334',\n",
       "  'LastName__c': 'Williamson',\n",
       "  'Name': 'Kevin',\n",
       "  'MiddleName__c': 'Stewart',\n",
       "  'Gender__c': 'M'}]"
      ]
     },
     "execution_count": 10,
     "metadata": {},
     "output_type": "execute_result"
    }
   ],
   "source": [
    "student_load = student_data.to_dict('records')\n",
    "student_load"
   ]
  },
  {
   "cell_type": "markdown",
   "metadata": {},
   "source": [
    "## Inserting rows in bulk"
   ]
  },
  {
   "cell_type": "code",
   "execution_count": 11,
   "metadata": {},
   "outputs": [],
   "source": [
    "try:\n",
    "    sf.bulk.Student__c.insert(student_load) #Student__c is the API name\n",
    "except Exception as e:\n",
    "    print(e)"
   ]
  },
  {
   "cell_type": "code",
   "execution_count": null,
   "metadata": {},
   "outputs": [],
   "source": []
  }
 ],
 "metadata": {
  "kernelspec": {
   "display_name": "Python 3",
   "language": "python",
   "name": "python3"
  },
  "language_info": {
   "codemirror_mode": {
    "name": "ipython",
    "version": 3
   },
   "file_extension": ".py",
   "mimetype": "text/x-python",
   "name": "python",
   "nbconvert_exporter": "python",
   "pygments_lexer": "ipython3",
   "version": "3.7.4"
  }
 },
 "nbformat": 4,
 "nbformat_minor": 2
}
